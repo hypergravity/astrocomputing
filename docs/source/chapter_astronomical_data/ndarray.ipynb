{
 "cells": [
  {
   "cell_type": "markdown",
   "id": "9b751297-23a7-441f-8ed5-e96b528e96bd",
   "metadata": {},
   "source": [
    "# `astropy.ndarray`"
   ]
  },
  {
   "cell_type": "code",
   "execution_count": 1,
   "id": "32389384-2396-439f-b2a5-561a40a9fd71",
   "metadata": {},
   "outputs": [
    {
     "name": "stdout",
     "output_type": "stream",
     "text": [
      "%pylab is deprecated, use %matplotlib inline and import the required libraries.\n",
      "Populating the interactive namespace from numpy and matplotlib\n"
     ]
    }
   ],
   "source": [
    "%pylab inline\n",
    "import warnings\n",
    "warnings.filterwarnings(\"ignore\")"
   ]
  },
  {
   "cell_type": "markdown",
   "id": "bccfad59-5435-490e-8a43-581532b78e4a",
   "metadata": {},
   "source": [
    "## 1D array - spectra"
   ]
  },
  {
   "cell_type": "code",
   "execution_count": null,
   "id": "6c591733-0347-445e-9bed-bfa6e4100139",
   "metadata": {},
   "outputs": [],
   "source": []
  },
  {
   "cell_type": "markdown",
   "id": "98a376a5-f722-41bd-85c5-570ec320cba4",
   "metadata": {},
   "source": [
    "## 2D array - image"
   ]
  },
  {
   "cell_type": "code",
   "execution_count": null,
   "id": "9375ecc3-d29e-42f4-808a-963233cbcc9e",
   "metadata": {},
   "outputs": [],
   "source": []
  },
  {
   "cell_type": "markdown",
   "id": "5f09b6ea-00ed-4e16-9ba7-12a0465c3571",
   "metadata": {},
   "source": [
    "## 3D array - cube"
   ]
  },
  {
   "cell_type": "markdown",
   "id": "a2681ce8-0282-49c1-b0fd-6c3baf69fc76",
   "metadata": {},
   "source": [
    "SDSS-MaNGA is an IFS survey of galaxies.\n",
    "\n",
    "Example data:\n",
    "![manga_panels](https://www.sdss4.org/wp-content/uploads/2021/05/manga_panels.png)"
   ]
  },
  {
   "cell_type": "code",
   "execution_count": 2,
   "id": "417c56f4-fcf2-49ec-b8af-cf5416f20df7",
   "metadata": {},
   "outputs": [
    {
     "name": "stdout",
     "output_type": "stream",
     "text": [
      "Filename: ../../../examples/astronomical_data_cube/manga-7443-12701-LOGCUBE.fits.gz\n",
      "No.    Name      Ver    Type      Cards   Dimensions   Format\n",
      "  0  PRIMARY       1 PrimaryHDU      75   ()      \n",
      "  1  FLUX          1 ImageHDU       100   (72, 72, 4563)   float32   \n",
      "  2  IVAR          1 ImageHDU        17   (72, 72, 4563)   float32   \n",
      "  3  MASK          1 ImageHDU        17   (72, 72, 4563)   int32   \n",
      "  4  LSFPOST       1 ImageHDU        11   (72, 72, 4563)   float32   \n",
      "  5  LSFPRE        1 ImageHDU        11   (72, 72, 4563)   float32   \n",
      "  6  WAVE          1 ImageHDU         9   (4563,)   float64   \n",
      "  7  SPECRES       1 ImageHDU         9   (4563,)   float64   \n",
      "  8  SPECRESD      1 ImageHDU         9   (4563,)   float64   \n",
      "  9  PRESPECRES    1 ImageHDU         9   (4563,)   float64   \n",
      " 10  PRESPECRESD    1 ImageHDU         9   (4563,)   float64   \n",
      " 11  OBSINFO       1 BinTableHDU    148   15R x 65C   [25A, 17A, 5A, J, I, 9A, E, E, E, E, E, E, J, J, I, J, E, 12A, J, 8A, E, E, E, E, E, E, E, E, E, E, E, E, E, E, E, E, E, E, E, 13A, E, E, E, E, D, D, D, D, E, E, J, J, J, E, E, E, E, E, E, J, J, E, E, E, E]   \n",
      " 12  GIMG          1 ImageHDU        28   (72, 72)   float32   \n",
      " 13  RIMG          1 ImageHDU        28   (72, 72)   float32   \n",
      " 14  IIMG          1 ImageHDU        28   (72, 72)   float32   \n",
      " 15  ZIMG          1 ImageHDU        28   (72, 72)   float32   \n",
      " 16  GPSF          1 ImageHDU        28   (72, 72)   float32   \n",
      " 17  RPSF          1 ImageHDU        28   (72, 72)   float32   \n",
      " 18  IPSF          1 ImageHDU        28   (72, 72)   float32   \n",
      " 19  ZPSF          1 ImageHDU        28   (72, 72)   float32   \n",
      " 20  GCORREL       1 BinTableHDU     32   147136R x 5C   [J, J, J, J, D]   \n",
      " 21  RCORREL       1 BinTableHDU     32   141085R x 5C   [J, J, J, J, D]   \n",
      " 22  ICORREL       1 BinTableHDU     32   144491R x 5C   [J, J, J, J, D]   \n",
      " 23  ZCORREL       1 BinTableHDU     32   146146R x 5C   [J, J, J, J, D]   \n"
     ]
    }
   ],
   "source": [
    "# load MaNGA data\n",
    "from astropy.io import fits\n",
    "hl = fits.open(\"../../../examples/astronomical_data_cube/manga-7443-12701-LOGCUBE.fits.gz\")\n",
    "hl.info()"
   ]
  },
  {
   "cell_type": "code",
   "execution_count": 3,
   "id": "3b039825-6aa9-4e5b-8191-93a919ce6250",
   "metadata": {},
   "outputs": [
    {
     "data": {
      "image/png": "[encoded data removed]",
      "text/plain": [
       "<Figure size 640x480 with 1 Axes>"
      ]
     },
     "metadata": {},
     "output_type": "display_data"
    }
   ],
   "source": [
    "import matplotlib.pyplot as plt\n",
    "from astropy.wcs import WCS\n",
    "wcs = WCS(hl[\"FLUX\"].header)\n",
    "flux_sum = hl[\"FLUX\"].data.sum(axis=0)\n",
    "\n",
    "plt.figure()\n",
    "plt.subplot(projection=wcs.dropaxis(2))\n",
    "plt.imshow(np.log10(flux_sum), cmap=plt.cm.magma)\n",
    "plt.grid(color='white', ls='solid')\n",
    "plt.xlabel('R.A.')\n",
    "plt.ylabel('Dec.')"
   ]
  },
  {
   "cell_type": "code",
   "execution_count": null,
   "id": "5528c468-77aa-401c-acd8-ab74e1f26e77",
   "metadata": {},
   "outputs": [],
   "source": []
  }
 ],
 "metadata": {
  "kernelspec": {
   "display_name": "Python 3 (ipykernel)",
   "language": "python",
   "name": "python3"
  },
  "language_info": {
   "codemirror_mode": {
    "name": "ipython",
    "version": 3
   },
   "file_extension": ".py",
   "mimetype": "text/x-python",
   "name": "python",
   "nbconvert_exporter": "python",
   "pygments_lexer": "ipython3",
   "version": "3.11.4"
  }
 },
 "nbformat": 4,
 "nbformat_minor": 5
}
