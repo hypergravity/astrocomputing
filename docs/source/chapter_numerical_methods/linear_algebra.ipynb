{
 "cells": [
  {
   "cell_type": "markdown",
   "id": "80f2ae0c-d6e0-4654-824d-36f305057656",
   "metadata": {},
   "source": [
    "# Linear algebra"
   ]
  },
  {
   "cell_type": "markdown",
   "id": "ec50d2dd-96ec-42df-b844-a90cd30753b1",
   "metadata": {},
   "source": [
    "## Example"
   ]
  },
  {
   "cell_type": "code",
   "execution_count": null,
   "id": "6c8e5419-c122-4221-a512-544766c8ba72",
   "metadata": {},
   "outputs": [],
   "source": []
  },
  {
   "cell_type": "markdown",
   "id": "9ad7fd2a-d829-4e87-9a50-258cdd5d6d17",
   "metadata": {},
   "source": [
    "$$\\boldsymbol{A} \\vec{x} = \\vec{b}$$"
   ]
  },
  {
   "cell_type": "code",
   "execution_count": 4,
   "id": "20906583-5969-4465-b6da-a3983f3b8fb7",
   "metadata": {},
   "outputs": [
    {
     "data": {
      "text/plain": [
       "array([[ 1.25725419, -0.27987616, -0.96345815,  1.21187748,  0.13909087],\n",
       "       [ 0.80170155, -0.06610207, -0.22606558, -0.40012405, -1.07144688],\n",
       "       [-1.59939152, -0.85849629,  0.03425393, -0.95655549, -1.04363851],\n",
       "       [-1.5786452 , -0.30568397, -0.98579524,  0.75086196, -1.4432597 ],\n",
       "       [-1.13501904, -0.40245116,  0.37028886, -2.78680169,  0.30188347]])"
      ]
     },
     "execution_count": 4,
     "metadata": {},
     "output_type": "execute_result"
    }
   ],
   "source": [
    "import numpy as np\n",
    "a = np.random.randn(5, 5)\n",
    "a"
   ]
  },
  {
   "cell_type": "code",
   "execution_count": 5,
   "id": "7dd2d10b-dbc6-45d3-b0a6-73c8962e5633",
   "metadata": {},
   "outputs": [
    {
     "data": {
      "text/plain": [
       "array([[1.],\n",
       "       [1.],\n",
       "       [1.],\n",
       "       [1.],\n",
       "       [1.]])"
      ]
     },
     "execution_count": 5,
     "metadata": {},
     "output_type": "execute_result"
    }
   ],
   "source": [
    "b = np.ones((5, 1))\n",
    "b"
   ]
  },
  {
   "cell_type": "code",
   "execution_count": 10,
   "id": "8f183044-fc97-43de-9a8d-96e661718c1d",
   "metadata": {},
   "outputs": [
    {
     "data": {
      "text/plain": [
       "array([[ 0.24288223],\n",
       "       [-0.7658774 ],\n",
       "       [-1.20706016],\n",
       "       [-0.53462025],\n",
       "       [-0.2500037 ]])"
      ]
     },
     "execution_count": 10,
     "metadata": {},
     "output_type": "execute_result"
    }
   ],
   "source": [
    "x = np.linalg.solve(a=a, b=b)\n",
    "x"
   ]
  },
  {
   "cell_type": "code",
   "execution_count": 9,
   "id": "627b13ea-54d9-467f-b75e-b67108b4da72",
   "metadata": {},
   "outputs": [
    {
     "data": {
      "text/plain": [
       "array([[1.],\n",
       "       [1.],\n",
       "       [1.],\n",
       "       [1.],\n",
       "       [1.]])"
      ]
     },
     "execution_count": 9,
     "metadata": {},
     "output_type": "execute_result"
    }
   ],
   "source": [
    "np.matmul(a, x)"
   ]
  },
  {
   "cell_type": "code",
   "execution_count": null,
   "id": "6fa1c67e-c208-4ccd-a32e-d47fbc106b93",
   "metadata": {},
   "outputs": [],
   "source": []
  }
 ],
 "metadata": {
  "kernelspec": {
   "display_name": "Python 3 (ipykernel)",
   "language": "python",
   "name": "python3"
  },
  "language_info": {
   "codemirror_mode": {
    "name": "ipython",
    "version": 3
   },
   "file_extension": ".py",
   "mimetype": "text/x-python",
   "name": "python",
   "nbconvert_exporter": "python",
   "pygments_lexer": "ipython3",
   "version": "3.11.4"
  }
 },
 "nbformat": 4,
 "nbformat_minor": 5
}
