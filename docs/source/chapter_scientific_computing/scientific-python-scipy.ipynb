{
 "cells": [
  {
   "cell_type": "markdown",
   "id": "aecc4a95-b4c9-4d55-bc00-791dbd078b5e",
   "metadata": {},
   "source": [
    "# Scientific Python - `scipy`"
   ]
  },
  {
   "cell_type": "code",
   "execution_count": null,
   "id": "3da20099-981d-46d8-a691-bac545d7919f",
   "metadata": {},
   "outputs": [],
   "source": []
  }
 ],
 "metadata": {
  "kernelspec": {
   "display_name": "Python 3 (ipykernel)",
   "language": "python",
   "name": "python3"
  },
  "language_info": {
   "codemirror_mode": {
    "name": "ipython",
    "version": 3
   },
   "file_extension": ".py",
   "mimetype": "text/x-python",
   "name": "python",
   "nbconvert_exporter": "python",
   "pygments_lexer": "ipython3",
   "version": "3.11.4"
  }
 },
 "nbformat": 4,
 "nbformat_minor": 5
}
