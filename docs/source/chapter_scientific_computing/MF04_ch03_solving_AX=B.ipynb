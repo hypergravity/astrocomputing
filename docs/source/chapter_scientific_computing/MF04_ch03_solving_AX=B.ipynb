{
 "cells": [
  {
   "cell_type": "markdown",
   "id": "80f2ae0c-d6e0-4654-824d-36f305057656",
   "metadata": {},
   "source": [
    "# Linear algebra"
   ]
  },
  {
   "cell_type": "markdown",
   "id": "ec50d2dd-96ec-42df-b844-a90cd30753b1",
   "metadata": {},
   "source": [
    "## Solve $\\boldsymbol{A} \\vec{x} = \\vec{b}$"
   ]
  },
  {
   "cell_type": "code",
   "execution_count": 1,
   "id": "20906583-5969-4465-b6da-a3983f3b8fb7",
   "metadata": {},
   "outputs": [
    {
     "data": {
      "text/plain": [
       "array([[ 1.29828522, -0.07545962, -0.8796512 ,  0.47423191,  1.58456625],\n",
       "       [-0.74702107, -0.50367163, -0.0715324 ,  0.6009195 , -0.63343534],\n",
       "       [ 0.66093726, -0.12601463, -0.50620178,  2.41973627, -0.4610883 ],\n",
       "       [-0.98070444,  0.01424954, -0.69370054, -1.93150585,  0.44549004],\n",
       "       [ 0.86045093, -0.86686447,  0.82555562,  0.16465396, -1.36459638]])"
      ]
     },
     "execution_count": 1,
     "metadata": {},
     "output_type": "execute_result"
    }
   ],
   "source": [
    "import numpy as np\n",
    "a = np.random.randn(5, 5)\n",
    "a"
   ]
  },
  {
   "cell_type": "code",
   "execution_count": 2,
   "id": "7dd2d10b-dbc6-45d3-b0a6-73c8962e5633",
   "metadata": {},
   "outputs": [
    {
     "data": {
      "text/plain": [
       "array([[1.],\n",
       "       [1.],\n",
       "       [1.],\n",
       "       [1.],\n",
       "       [1.]])"
      ]
     },
     "execution_count": 2,
     "metadata": {},
     "output_type": "execute_result"
    }
   ],
   "source": [
    "b = np.ones((5, 1))\n",
    "b"
   ]
  },
  {
   "cell_type": "code",
   "execution_count": 3,
   "id": "8f183044-fc97-43de-9a8d-96e661718c1d",
   "metadata": {},
   "outputs": [
    {
     "data": {
      "text/plain": [
       "array([[ 0.25017917],\n",
       "       [-1.6998817 ],\n",
       "       [-1.64376733],\n",
       "       [-0.18502463],\n",
       "       [-0.51198469]])"
      ]
     },
     "execution_count": 3,
     "metadata": {},
     "output_type": "execute_result"
    }
   ],
   "source": [
    "x = np.linalg.solve(a=a, b=b)\n",
    "x"
   ]
  },
  {
   "cell_type": "code",
   "execution_count": 4,
   "id": "627b13ea-54d9-467f-b75e-b67108b4da72",
   "metadata": {},
   "outputs": [
    {
     "data": {
      "text/plain": [
       "array([[1.],\n",
       "       [1.],\n",
       "       [1.],\n",
       "       [1.],\n",
       "       [1.]])"
      ]
     },
     "execution_count": 4,
     "metadata": {},
     "output_type": "execute_result"
    }
   ],
   "source": [
    "np.matmul(a, x)"
   ]
  },
  {
   "cell_type": "markdown",
   "id": "0c1404cd-fb21-47cc-867e-c7ce260c9ae5",
   "metadata": {},
   "source": [
    "## How fast is it?"
   ]
  },
  {
   "cell_type": "code",
   "execution_count": 5,
   "id": "6fa1c67e-c208-4ccd-a32e-d47fbc106b93",
   "metadata": {},
   "outputs": [
    {
     "name": "stdout",
     "output_type": "stream",
     "text": [
      "CPU times: user 42.2 ms, sys: 3.73 ms, total: 45.9 ms\n",
      "Wall time: 61.9 ms\n"
     ]
    }
   ],
   "source": [
    "%%time\n",
    "n = 1000\n",
    "a = np.random.randn(n, n)\n",
    "b = np.ones((n, 1))\n",
    "x = np.linalg.solve(a=a, b=b)"
   ]
  },
  {
   "cell_type": "code",
   "execution_count": 6,
   "id": "f2189d25-06e9-46d8-a592-b59cb4e8c1e9",
   "metadata": {},
   "outputs": [
    {
     "name": "stdout",
     "output_type": "stream",
     "text": [
      "CPU times: user 207 ms, sys: 8.64 ms, total: 216 ms\n",
      "Wall time: 216 ms\n"
     ]
    }
   ],
   "source": [
    "%%time\n",
    "n = 2000\n",
    "a = np.random.randn(n, n)\n",
    "b = np.ones((n, 1))\n",
    "x = np.linalg.solve(a=a, b=b)"
   ]
  },
  {
   "cell_type": "code",
   "execution_count": null,
   "id": "4159230f-0c65-4314-8666-8b0eb431886b",
   "metadata": {},
   "outputs": [],
   "source": []
  },
  {
   "cell_type": "code",
   "execution_count": 7,
   "id": "3a9d0c7f-d353-4fe3-9c23-aba935f486bc",
   "metadata": {},
   "outputs": [
    {
     "name": "stdout",
     "output_type": "stream",
     "text": [
      "CPU times: user 1.24 s, sys: 31.1 ms, total: 1.28 s\n",
      "Wall time: 1.29 s\n"
     ]
    }
   ],
   "source": [
    "%%time\n",
    "n = 4000\n",
    "a = np.random.randn(n, n)\n",
    "b = np.ones((n, 1))\n",
    "x = np.linalg.solve(a=a, b=b)"
   ]
  },
  {
   "cell_type": "code",
   "execution_count": 8,
   "id": "8835ead7-5d4d-48aa-88e0-365c7f4a4412",
   "metadata": {},
   "outputs": [
    {
     "name": "stdout",
     "output_type": "stream",
     "text": [
      "CPU times: user 8.51 s, sys: 132 ms, total: 8.65 s\n",
      "Wall time: 8.66 s\n"
     ]
    }
   ],
   "source": [
    "%%time\n",
    "n = 8000\n",
    "a = np.random.randn(n, n)\n",
    "b = np.ones((n, 1))\n",
    "x = np.linalg.solve(a=a, b=b)"
   ]
  },
  {
   "cell_type": "markdown",
   "id": "5d37eecb-3d1e-48bc-ace0-a8aec7acce87",
   "metadata": {},
   "source": [
    "### What if A is a spase matrix?\n",
    "\n",
    "Hint: read https://stackoverflow.com/questions/42528238/how-to-use-a-sparse-matrix-in-numpy-linalg-solve"
   ]
  },
  {
   "cell_type": "code",
   "execution_count": null,
   "id": "89ef1a20-8d73-4ede-95a7-d093bbb45c47",
   "metadata": {},
   "outputs": [],
   "source": []
  }
 ],
 "metadata": {
  "kernelspec": {
   "display_name": "Python 3 (ipykernel)",
   "language": "python",
   "name": "python3"
  },
  "language_info": {
   "codemirror_mode": {
    "name": "ipython",
    "version": 3
   },
   "file_extension": ".py",
   "mimetype": "text/x-python",
   "name": "python",
   "nbconvert_exporter": "python",
   "pygments_lexer": "ipython3",
   "version": "3.11.4"
  }
 },
 "nbformat": 4,
 "nbformat_minor": 5
}
