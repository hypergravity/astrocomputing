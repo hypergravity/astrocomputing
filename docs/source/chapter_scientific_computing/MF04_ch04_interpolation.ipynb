{
 "cells": [
  {
   "cell_type": "markdown",
   "id": "ba43044b-73c0-48f9-893a-aaae547d85d2",
   "metadata": {},
   "source": [
    "# Interpolation"
   ]
  },
  {
   "cell_type": "markdown",
   "id": "6392a911-bca7-4d62-84d7-9e5ee185f84b",
   "metadata": {},
   "source": [
    "## linear interpolation"
   ]
  },
  {
   "cell_type": "markdown",
   "id": "0b90da27-c1d3-49e1-966d-232f513a4b30",
   "metadata": {},
   "source": [
    "## spline"
   ]
  },
  {
   "cell_type": "markdown",
   "id": "ffa5888a-e492-43f6-a6e9-27f488a6ce90",
   "metadata": {},
   "source": [
    "## ND interpolation"
   ]
  },
  {
   "cell_type": "code",
   "execution_count": null,
   "id": "1afddc4f-929a-45dc-ae46-6362d41464b7",
   "metadata": {},
   "outputs": [],
   "source": []
  }
 ],
 "metadata": {
  "kernelspec": {
   "display_name": "Python 3 (ipykernel)",
   "language": "python",
   "name": "python3"
  },
  "language_info": {
   "codemirror_mode": {
    "name": "ipython",
    "version": 3
   },
   "file_extension": ".py",
   "mimetype": "text/x-python",
   "name": "python",
   "nbconvert_exporter": "python",
   "pygments_lexer": "ipython3",
   "version": "3.11.4"
  }
 },
 "nbformat": 4,
 "nbformat_minor": 5
}
